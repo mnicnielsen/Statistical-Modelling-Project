{
 "cells": [
  {
   "cell_type": "markdown",
   "metadata": {},
   "source": [
    "Join the data from Part 1 with the data from Part 2 to create a new dataframe."
   ]
  },
  {
   "cell_type": "code",
   "execution_count": 1,
   "metadata": {},
   "outputs": [],
   "source": [
    "import requests\n",
    "import pandas as pd\n",
    "import numpy as np\n",
    "import matplotlib.pyplot as plt"
   ]
  },
  {
   "cell_type": "code",
   "execution_count": 2,
   "metadata": {},
   "outputs": [],
   "source": [
    "#Load in csv files\n",
    "df_stations = pd.read_csv(\"df_stations.csv\")"
   ]
  },
  {
   "cell_type": "code",
   "execution_count": 3,
   "metadata": {},
   "outputs": [],
   "source": [
    "fs_df = pd.read_csv(\"fs_df_with_totals.csv\")"
   ]
  },
  {
   "cell_type": "code",
   "execution_count": 4,
   "metadata": {},
   "outputs": [
    {
     "data": {
      "text/html": [
       "<div>\n",
       "<style scoped>\n",
       "    .dataframe tbody tr th:only-of-type {\n",
       "        vertical-align: middle;\n",
       "    }\n",
       "\n",
       "    .dataframe tbody tr th {\n",
       "        vertical-align: top;\n",
       "    }\n",
       "\n",
       "    .dataframe thead th {\n",
       "        text-align: right;\n",
       "    }\n",
       "</style>\n",
       "<table border=\"1\" class=\"dataframe\">\n",
       "  <thead>\n",
       "    <tr style=\"text-align: right;\">\n",
       "      <th></th>\n",
       "      <th>Empty Slots</th>\n",
       "      <th>Available Bikes</th>\n",
       "      <th>Station ID</th>\n",
       "      <th>latitude</th>\n",
       "      <th>longitude</th>\n",
       "      <th>Station Name</th>\n",
       "      <th>Data Collection Timestamp</th>\n",
       "      <th>Total Slots</th>\n",
       "      <th>Status</th>\n",
       "    </tr>\n",
       "  </thead>\n",
       "  <tbody>\n",
       "    <tr>\n",
       "      <th>0</th>\n",
       "      <td>16</td>\n",
       "      <td>19</td>\n",
       "      <td>7a19c49f486d7c0c02b3685d7b240448</td>\n",
       "      <td>49.262487</td>\n",
       "      <td>-123.114397</td>\n",
       "      <td>0001 10th &amp; Cambie</td>\n",
       "      <td>2022-11-08T01:19:40.179000Z</td>\n",
       "      <td>35</td>\n",
       "      <td>online</td>\n",
       "    </tr>\n",
       "  </tbody>\n",
       "</table>\n",
       "</div>"
      ],
      "text/plain": [
       "   Empty Slots  Available Bikes                        Station ID   latitude  \\\n",
       "0           16               19  7a19c49f486d7c0c02b3685d7b240448  49.262487   \n",
       "\n",
       "    longitude        Station Name    Data Collection Timestamp  Total Slots  \\\n",
       "0 -123.114397  0001 10th & Cambie  2022-11-08T01:19:40.179000Z           35   \n",
       "\n",
       "   Status  \n",
       "0  online  "
      ]
     },
     "execution_count": 4,
     "metadata": {},
     "output_type": "execute_result"
    }
   ],
   "source": [
    "df_stations.head(1)"
   ]
  },
  {
   "cell_type": "code",
   "execution_count": 5,
   "metadata": {},
   "outputs": [
    {
     "name": "stdout",
     "output_type": "stream",
     "text": [
      "['Empty Slots', 'Available Bikes', 'Station ID', 'latitude', 'longitude', 'Station Name', 'Data Collection Timestamp', 'Total Slots', 'Status']\n"
     ]
    }
   ],
   "source": [
    "#Rearrange columns for readability\n",
    "cols = list(df_stations.columns.values)\n",
    "print(cols)"
   ]
  },
  {
   "cell_type": "code",
   "execution_count": 6,
   "metadata": {},
   "outputs": [
    {
     "data": {
      "text/html": [
       "<div>\n",
       "<style scoped>\n",
       "    .dataframe tbody tr th:only-of-type {\n",
       "        vertical-align: middle;\n",
       "    }\n",
       "\n",
       "    .dataframe tbody tr th {\n",
       "        vertical-align: top;\n",
       "    }\n",
       "\n",
       "    .dataframe thead th {\n",
       "        text-align: right;\n",
       "    }\n",
       "</style>\n",
       "<table border=\"1\" class=\"dataframe\">\n",
       "  <thead>\n",
       "    <tr style=\"text-align: right;\">\n",
       "      <th></th>\n",
       "      <th>Station ID</th>\n",
       "      <th>Station Name</th>\n",
       "      <th>latitude</th>\n",
       "      <th>longitude</th>\n",
       "      <th>Empty Slots</th>\n",
       "      <th>Available Bikes</th>\n",
       "      <th>Total Slots</th>\n",
       "    </tr>\n",
       "  </thead>\n",
       "  <tbody>\n",
       "    <tr>\n",
       "      <th>0</th>\n",
       "      <td>7a19c49f486d7c0c02b3685d7b240448</td>\n",
       "      <td>0001 10th &amp; Cambie</td>\n",
       "      <td>49.262487</td>\n",
       "      <td>-123.114397</td>\n",
       "      <td>16</td>\n",
       "      <td>19</td>\n",
       "      <td>35</td>\n",
       "    </tr>\n",
       "  </tbody>\n",
       "</table>\n",
       "</div>"
      ],
      "text/plain": [
       "                         Station ID        Station Name   latitude  \\\n",
       "0  7a19c49f486d7c0c02b3685d7b240448  0001 10th & Cambie  49.262487   \n",
       "\n",
       "    longitude  Empty Slots  Available Bikes  Total Slots  \n",
       "0 -123.114397           16               19           35  "
      ]
     },
     "execution_count": 6,
     "metadata": {},
     "output_type": "execute_result"
    }
   ],
   "source": [
    "df_stations = df_stations[['Station ID', 'Station Name', 'latitude', 'longitude', 'Empty Slots', 'Available Bikes', 'Total Slots']]\n",
    "df_stations.head(1)"
   ]
  },
  {
   "cell_type": "code",
   "execution_count": 7,
   "metadata": {},
   "outputs": [
    {
     "data": {
      "text/html": [
       "<div>\n",
       "<style scoped>\n",
       "    .dataframe tbody tr th:only-of-type {\n",
       "        vertical-align: middle;\n",
       "    }\n",
       "\n",
       "    .dataframe tbody tr th {\n",
       "        vertical-align: top;\n",
       "    }\n",
       "\n",
       "    .dataframe thead th {\n",
       "        text-align: right;\n",
       "    }\n",
       "</style>\n",
       "<table border=\"1\" class=\"dataframe\">\n",
       "  <thead>\n",
       "    <tr style=\"text-align: right;\">\n",
       "      <th></th>\n",
       "      <th>Station ID</th>\n",
       "      <th>Station Name</th>\n",
       "      <th>latitude</th>\n",
       "      <th>longitude</th>\n",
       "      <th>Empty Slots</th>\n",
       "      <th>Available Bikes</th>\n",
       "      <th>Total Slots</th>\n",
       "      <th>Proportion of Available Bikes (%)</th>\n",
       "    </tr>\n",
       "  </thead>\n",
       "  <tbody>\n",
       "    <tr>\n",
       "      <th>0</th>\n",
       "      <td>7a19c49f486d7c0c02b3685d7b240448</td>\n",
       "      <td>0001 10th &amp; Cambie</td>\n",
       "      <td>49.262487</td>\n",
       "      <td>-123.114397</td>\n",
       "      <td>16</td>\n",
       "      <td>19</td>\n",
       "      <td>35</td>\n",
       "      <td>54.0</td>\n",
       "    </tr>\n",
       "    <tr>\n",
       "      <th>1</th>\n",
       "      <td>32603a87cfca71d0f7dfa3513bad69d5</td>\n",
       "      <td>0004 Yaletown-Roundhouse Station</td>\n",
       "      <td>49.274566</td>\n",
       "      <td>-123.121817</td>\n",
       "      <td>7</td>\n",
       "      <td>9</td>\n",
       "      <td>16</td>\n",
       "      <td>56.0</td>\n",
       "    </tr>\n",
       "  </tbody>\n",
       "</table>\n",
       "</div>"
      ],
      "text/plain": [
       "                         Station ID                      Station Name  \\\n",
       "0  7a19c49f486d7c0c02b3685d7b240448                0001 10th & Cambie   \n",
       "1  32603a87cfca71d0f7dfa3513bad69d5  0004 Yaletown-Roundhouse Station   \n",
       "\n",
       "    latitude   longitude  Empty Slots  Available Bikes  Total Slots  \\\n",
       "0  49.262487 -123.114397           16               19           35   \n",
       "1  49.274566 -123.121817            7                9           16   \n",
       "\n",
       "   Proportion of Available Bikes (%)  \n",
       "0                               54.0  \n",
       "1                               56.0  "
      ]
     },
     "execution_count": 7,
     "metadata": {},
     "output_type": "execute_result"
    }
   ],
   "source": [
    "df_stations[\"Proportion of Available Bikes (%)\"] = round(df_stations[\"Available Bikes\"] / df_stations[\"Total Slots\"] * 100,0)\n",
    "df_stations.head(2)"
   ]
  },
  {
   "cell_type": "code",
   "execution_count": 8,
   "metadata": {},
   "outputs": [
    {
     "data": {
      "text/html": [
       "<div>\n",
       "<style scoped>\n",
       "    .dataframe tbody tr th:only-of-type {\n",
       "        vertical-align: middle;\n",
       "    }\n",
       "\n",
       "    .dataframe tbody tr th {\n",
       "        vertical-align: top;\n",
       "    }\n",
       "\n",
       "    .dataframe thead th {\n",
       "        text-align: right;\n",
       "    }\n",
       "</style>\n",
       "<table border=\"1\" class=\"dataframe\">\n",
       "  <thead>\n",
       "    <tr style=\"text-align: right;\">\n",
       "      <th></th>\n",
       "      <th>Station ID</th>\n",
       "      <th>latitude</th>\n",
       "      <th>longitude</th>\n",
       "      <th>Bars - All</th>\n",
       "      <th>Bars - Open</th>\n",
       "      <th>Restaurants - All</th>\n",
       "      <th>Restaurants - Open</th>\n",
       "      <th>Shopping - All</th>\n",
       "      <th>Shopping - Open</th>\n",
       "      <th>Education - All</th>\n",
       "      <th>Education - Open</th>\n",
       "      <th>Arts and Entertainment - All</th>\n",
       "      <th>Arts and Entertainment - Open</th>\n",
       "      <th>Total - All Venues</th>\n",
       "      <th>Total - Open Venues</th>\n",
       "    </tr>\n",
       "  </thead>\n",
       "  <tbody>\n",
       "    <tr>\n",
       "      <th>0</th>\n",
       "      <td>7a19c49f486d7c0c02b3685d7b240448</td>\n",
       "      <td>49.262487</td>\n",
       "      <td>-123.114397</td>\n",
       "      <td>1</td>\n",
       "      <td>1</td>\n",
       "      <td>7</td>\n",
       "      <td>3</td>\n",
       "      <td>4</td>\n",
       "      <td>1</td>\n",
       "      <td>1</td>\n",
       "      <td>1</td>\n",
       "      <td>1</td>\n",
       "      <td>0</td>\n",
       "      <td>14</td>\n",
       "      <td>6</td>\n",
       "    </tr>\n",
       "    <tr>\n",
       "      <th>1</th>\n",
       "      <td>32603a87cfca71d0f7dfa3513bad69d5</td>\n",
       "      <td>49.274566</td>\n",
       "      <td>-123.121817</td>\n",
       "      <td>7</td>\n",
       "      <td>2</td>\n",
       "      <td>25</td>\n",
       "      <td>15</td>\n",
       "      <td>23</td>\n",
       "      <td>10</td>\n",
       "      <td>2</td>\n",
       "      <td>0</td>\n",
       "      <td>3</td>\n",
       "      <td>0</td>\n",
       "      <td>60</td>\n",
       "      <td>27</td>\n",
       "    </tr>\n",
       "  </tbody>\n",
       "</table>\n",
       "</div>"
      ],
      "text/plain": [
       "                         Station ID   latitude   longitude  Bars - All  \\\n",
       "0  7a19c49f486d7c0c02b3685d7b240448  49.262487 -123.114397           1   \n",
       "1  32603a87cfca71d0f7dfa3513bad69d5  49.274566 -123.121817           7   \n",
       "\n",
       "   Bars - Open  Restaurants - All  Restaurants - Open  Shopping - All  \\\n",
       "0            1                  7                   3               4   \n",
       "1            2                 25                  15              23   \n",
       "\n",
       "   Shopping - Open  Education - All  Education - Open  \\\n",
       "0                1                1                 1   \n",
       "1               10                2                 0   \n",
       "\n",
       "   Arts and Entertainment - All  Arts and Entertainment - Open  \\\n",
       "0                             1                              0   \n",
       "1                             3                              0   \n",
       "\n",
       "   Total - All Venues  Total - Open Venues  \n",
       "0                  14                    6  \n",
       "1                  60                   27  "
      ]
     },
     "execution_count": 8,
     "metadata": {},
     "output_type": "execute_result"
    }
   ],
   "source": [
    "fs_df.head(2)"
   ]
  },
  {
   "cell_type": "code",
   "execution_count": 9,
   "metadata": {},
   "outputs": [
    {
     "data": {
      "text/html": [
       "<div>\n",
       "<style scoped>\n",
       "    .dataframe tbody tr th:only-of-type {\n",
       "        vertical-align: middle;\n",
       "    }\n",
       "\n",
       "    .dataframe tbody tr th {\n",
       "        vertical-align: top;\n",
       "    }\n",
       "\n",
       "    .dataframe thead th {\n",
       "        text-align: right;\n",
       "    }\n",
       "</style>\n",
       "<table border=\"1\" class=\"dataframe\">\n",
       "  <thead>\n",
       "    <tr style=\"text-align: right;\">\n",
       "      <th></th>\n",
       "      <th>Station ID</th>\n",
       "      <th>Bars - All</th>\n",
       "      <th>Bars - Open</th>\n",
       "      <th>Restaurants - All</th>\n",
       "      <th>Restaurants - Open</th>\n",
       "      <th>Shopping - All</th>\n",
       "      <th>Shopping - Open</th>\n",
       "      <th>Education - All</th>\n",
       "      <th>Education - Open</th>\n",
       "      <th>Arts and Entertainment - All</th>\n",
       "      <th>Arts and Entertainment - Open</th>\n",
       "      <th>Total - All Venues</th>\n",
       "      <th>Total - Open Venues</th>\n",
       "    </tr>\n",
       "  </thead>\n",
       "  <tbody>\n",
       "    <tr>\n",
       "      <th>0</th>\n",
       "      <td>7a19c49f486d7c0c02b3685d7b240448</td>\n",
       "      <td>1</td>\n",
       "      <td>1</td>\n",
       "      <td>7</td>\n",
       "      <td>3</td>\n",
       "      <td>4</td>\n",
       "      <td>1</td>\n",
       "      <td>1</td>\n",
       "      <td>1</td>\n",
       "      <td>1</td>\n",
       "      <td>0</td>\n",
       "      <td>14</td>\n",
       "      <td>6</td>\n",
       "    </tr>\n",
       "    <tr>\n",
       "      <th>1</th>\n",
       "      <td>32603a87cfca71d0f7dfa3513bad69d5</td>\n",
       "      <td>7</td>\n",
       "      <td>2</td>\n",
       "      <td>25</td>\n",
       "      <td>15</td>\n",
       "      <td>23</td>\n",
       "      <td>10</td>\n",
       "      <td>2</td>\n",
       "      <td>0</td>\n",
       "      <td>3</td>\n",
       "      <td>0</td>\n",
       "      <td>60</td>\n",
       "      <td>27</td>\n",
       "    </tr>\n",
       "  </tbody>\n",
       "</table>\n",
       "</div>"
      ],
      "text/plain": [
       "                         Station ID  Bars - All  Bars - Open  \\\n",
       "0  7a19c49f486d7c0c02b3685d7b240448           1            1   \n",
       "1  32603a87cfca71d0f7dfa3513bad69d5           7            2   \n",
       "\n",
       "   Restaurants - All  Restaurants - Open  Shopping - All  Shopping - Open  \\\n",
       "0                  7                   3               4                1   \n",
       "1                 25                  15              23               10   \n",
       "\n",
       "   Education - All  Education - Open  Arts and Entertainment - All  \\\n",
       "0                1                 1                             1   \n",
       "1                2                 0                             3   \n",
       "\n",
       "   Arts and Entertainment - Open  Total - All Venues  Total - Open Venues  \n",
       "0                              0                  14                    6  \n",
       "1                              0                  60                   27  "
      ]
     },
     "execution_count": 9,
     "metadata": {},
     "output_type": "execute_result"
    }
   ],
   "source": [
    "fs_df = fs_df.drop(labels=[\"latitude\", \"longitude\"], axis=1)\n",
    "fs_df.head(2)"
   ]
  },
  {
   "cell_type": "code",
   "execution_count": 10,
   "metadata": {},
   "outputs": [
    {
     "data": {
      "text/html": [
       "<div>\n",
       "<style scoped>\n",
       "    .dataframe tbody tr th:only-of-type {\n",
       "        vertical-align: middle;\n",
       "    }\n",
       "\n",
       "    .dataframe tbody tr th {\n",
       "        vertical-align: top;\n",
       "    }\n",
       "\n",
       "    .dataframe thead th {\n",
       "        text-align: right;\n",
       "    }\n",
       "</style>\n",
       "<table border=\"1\" class=\"dataframe\">\n",
       "  <thead>\n",
       "    <tr style=\"text-align: right;\">\n",
       "      <th></th>\n",
       "      <th>Station ID</th>\n",
       "      <th>Station Name</th>\n",
       "      <th>latitude</th>\n",
       "      <th>longitude</th>\n",
       "      <th>Empty Slots</th>\n",
       "      <th>Available Bikes</th>\n",
       "      <th>Total Slots</th>\n",
       "      <th>Proportion of Available Bikes (%)</th>\n",
       "      <th>Bars - All</th>\n",
       "      <th>Bars - Open</th>\n",
       "      <th>Restaurants - All</th>\n",
       "      <th>Restaurants - Open</th>\n",
       "      <th>Shopping - All</th>\n",
       "      <th>Shopping - Open</th>\n",
       "      <th>Education - All</th>\n",
       "      <th>Education - Open</th>\n",
       "      <th>Arts and Entertainment - All</th>\n",
       "      <th>Arts and Entertainment - Open</th>\n",
       "      <th>Total - All Venues</th>\n",
       "      <th>Total - Open Venues</th>\n",
       "    </tr>\n",
       "  </thead>\n",
       "  <tbody>\n",
       "    <tr>\n",
       "      <th>0</th>\n",
       "      <td>7a19c49f486d7c0c02b3685d7b240448</td>\n",
       "      <td>0001 10th &amp; Cambie</td>\n",
       "      <td>49.262487</td>\n",
       "      <td>-123.114397</td>\n",
       "      <td>16</td>\n",
       "      <td>19</td>\n",
       "      <td>35</td>\n",
       "      <td>54.0</td>\n",
       "      <td>1.0</td>\n",
       "      <td>1.0</td>\n",
       "      <td>7.0</td>\n",
       "      <td>3.0</td>\n",
       "      <td>4.0</td>\n",
       "      <td>1.0</td>\n",
       "      <td>1.0</td>\n",
       "      <td>1.0</td>\n",
       "      <td>1.0</td>\n",
       "      <td>0.0</td>\n",
       "      <td>14.0</td>\n",
       "      <td>6.0</td>\n",
       "    </tr>\n",
       "    <tr>\n",
       "      <th>1</th>\n",
       "      <td>32603a87cfca71d0f7dfa3513bad69d5</td>\n",
       "      <td>0004 Yaletown-Roundhouse Station</td>\n",
       "      <td>49.274566</td>\n",
       "      <td>-123.121817</td>\n",
       "      <td>7</td>\n",
       "      <td>9</td>\n",
       "      <td>16</td>\n",
       "      <td>56.0</td>\n",
       "      <td>7.0</td>\n",
       "      <td>2.0</td>\n",
       "      <td>25.0</td>\n",
       "      <td>15.0</td>\n",
       "      <td>23.0</td>\n",
       "      <td>10.0</td>\n",
       "      <td>2.0</td>\n",
       "      <td>0.0</td>\n",
       "      <td>3.0</td>\n",
       "      <td>0.0</td>\n",
       "      <td>60.0</td>\n",
       "      <td>27.0</td>\n",
       "    </tr>\n",
       "  </tbody>\n",
       "</table>\n",
       "</div>"
      ],
      "text/plain": [
       "                         Station ID                      Station Name  \\\n",
       "0  7a19c49f486d7c0c02b3685d7b240448                0001 10th & Cambie   \n",
       "1  32603a87cfca71d0f7dfa3513bad69d5  0004 Yaletown-Roundhouse Station   \n",
       "\n",
       "    latitude   longitude  Empty Slots  Available Bikes  Total Slots  \\\n",
       "0  49.262487 -123.114397           16               19           35   \n",
       "1  49.274566 -123.121817            7                9           16   \n",
       "\n",
       "   Proportion of Available Bikes (%)  Bars - All  Bars - Open  \\\n",
       "0                               54.0         1.0          1.0   \n",
       "1                               56.0         7.0          2.0   \n",
       "\n",
       "   Restaurants - All  Restaurants - Open  Shopping - All  Shopping - Open  \\\n",
       "0                7.0                 3.0             4.0              1.0   \n",
       "1               25.0                15.0            23.0             10.0   \n",
       "\n",
       "   Education - All  Education - Open  Arts and Entertainment - All  \\\n",
       "0              1.0               1.0                           1.0   \n",
       "1              2.0               0.0                           3.0   \n",
       "\n",
       "   Arts and Entertainment - Open  Total - All Venues  Total - Open Venues  \n",
       "0                            0.0                14.0                  6.0  \n",
       "1                            0.0                60.0                 27.0  "
      ]
     },
     "execution_count": 10,
     "metadata": {},
     "output_type": "execute_result"
    }
   ],
   "source": [
    "#Create combined df\n",
    "df_combined = df_stations.merge(fs_df, on=\"Station ID\", how='left')\n",
    "df_combined.head(2)"
   ]
  },
  {
   "cell_type": "code",
   "execution_count": 11,
   "metadata": {},
   "outputs": [
    {
     "data": {
      "image/png": "[encoded data removed]",
      "text/plain": [
       "<Figure size 432x288 with 1 Axes>"
      ]
     },
     "metadata": {
      "needs_background": "light"
     },
     "output_type": "display_data"
    }
   ],
   "source": [
    "#look at distribution of total number of open businesses.\n",
    "fig, ax = plt.subplots()\n",
    "ax.hist(df_combined[\"Total - Open Venues\"], bins = 10)\n",
    "\n",
    "#Customize plot\n",
    "ax.set_title(\"Histogram of Open Venues\")\n",
    "ax.set_xlabel(\"Number of Open Venues\")\n",
    "ax.set_ylabel('Counts')\n",
    "\n",
    "#Displat the plot\n",
    "plt.show()\n"
   ]
  },
  {
   "cell_type": "code",
   "execution_count": 12,
   "metadata": {},
   "outputs": [
    {
     "data": {
      "image/png": "[encoded data removed]",
      "text/plain": [
       "<Figure size 432x288 with 1 Axes>"
      ]
     },
     "metadata": {
      "needs_background": "light"
     },
     "output_type": "display_data"
    }
   ],
   "source": [
    "#look at distribution of total number of businesses (open and closed).\n",
    "fig, ax = plt.subplots()\n",
    "ax.hist(df_combined[\"Total - All Venues\"])\n",
    "\n",
    "#Customize plot\n",
    "ax.set_title(\"Histogram of All Venues\")\n",
    "ax.set_xlabel(\"Number of All Venues\")\n",
    "ax.set_ylabel('Counts')\n",
    "\n",
    "#Displat the plot\n",
    "plt.show()"
   ]
  },
  {
   "cell_type": "markdown",
   "metadata": {},
   "source": [
    "Provide a visualization that you used as part of your EDA process. Explain the initial pattern or relationship you discoved through this visualization. "
   ]
  },
  {
   "cell_type": "code",
   "execution_count": 13,
   "metadata": {},
   "outputs": [
    {
     "data": {
      "text/html": [
       "<div>\n",
       "<style scoped>\n",
       "    .dataframe tbody tr th:only-of-type {\n",
       "        vertical-align: middle;\n",
       "    }\n",
       "\n",
       "    .dataframe tbody tr th {\n",
       "        vertical-align: top;\n",
       "    }\n",
       "\n",
       "    .dataframe thead th {\n",
       "        text-align: right;\n",
       "    }\n",
       "</style>\n",
       "<table border=\"1\" class=\"dataframe\">\n",
       "  <thead>\n",
       "    <tr style=\"text-align: right;\">\n",
       "      <th></th>\n",
       "      <th>Empty Slots</th>\n",
       "      <th>Available Bikes</th>\n",
       "      <th>Total Slots</th>\n",
       "      <th>Proportion of Available Bikes (%)</th>\n",
       "      <th>Bars - Open</th>\n",
       "      <th>Restaurants - Open</th>\n",
       "      <th>Shopping - Open</th>\n",
       "      <th>Education - Open</th>\n",
       "      <th>Arts and Entertainment - Open</th>\n",
       "      <th>Total - Open Venues</th>\n",
       "    </tr>\n",
       "  </thead>\n",
       "  <tbody>\n",
       "    <tr>\n",
       "      <th>0</th>\n",
       "      <td>16</td>\n",
       "      <td>19</td>\n",
       "      <td>35</td>\n",
       "      <td>54.0</td>\n",
       "      <td>1.0</td>\n",
       "      <td>3.0</td>\n",
       "      <td>1.0</td>\n",
       "      <td>1.0</td>\n",
       "      <td>0.0</td>\n",
       "      <td>6.0</td>\n",
       "    </tr>\n",
       "    <tr>\n",
       "      <th>1</th>\n",
       "      <td>7</td>\n",
       "      <td>9</td>\n",
       "      <td>16</td>\n",
       "      <td>56.0</td>\n",
       "      <td>2.0</td>\n",
       "      <td>15.0</td>\n",
       "      <td>10.0</td>\n",
       "      <td>0.0</td>\n",
       "      <td>0.0</td>\n",
       "      <td>27.0</td>\n",
       "    </tr>\n",
       "  </tbody>\n",
       "</table>\n",
       "</div>"
      ],
      "text/plain": [
       "   Empty Slots  Available Bikes  Total Slots  \\\n",
       "0           16               19           35   \n",
       "1            7                9           16   \n",
       "\n",
       "   Proportion of Available Bikes (%)  Bars - Open  Restaurants - Open  \\\n",
       "0                               54.0          1.0                 3.0   \n",
       "1                               56.0          2.0                15.0   \n",
       "\n",
       "   Shopping - Open  Education - Open  Arts and Entertainment - Open  \\\n",
       "0              1.0               1.0                            0.0   \n",
       "1             10.0               0.0                            0.0   \n",
       "\n",
       "   Total - Open Venues  \n",
       "0                  6.0  \n",
       "1                 27.0  "
      ]
     },
     "execution_count": 13,
     "metadata": {},
     "output_type": "execute_result"
    }
   ],
   "source": [
    "#Create df of columns to look at correlation for open venues. \n",
    "\n",
    "open_correlation_df = df_combined[['Empty Slots', 'Available Bikes', 'Total Slots', 'Proportion of Available Bikes (%)', 'Bars - Open', 'Restaurants - Open', 'Shopping - Open', 'Education - Open', 'Arts and Entertainment - Open', 'Total - Open Venues']]\n",
    "open_correlation_df.head(2)"
   ]
  },
  {
   "cell_type": "code",
   "execution_count": 14,
   "metadata": {},
   "outputs": [
    {
     "data": {
      "text/html": [
       "<div>\n",
       "<style scoped>\n",
       "    .dataframe tbody tr th:only-of-type {\n",
       "        vertical-align: middle;\n",
       "    }\n",
       "\n",
       "    .dataframe tbody tr th {\n",
       "        vertical-align: top;\n",
       "    }\n",
       "\n",
       "    .dataframe thead th {\n",
       "        text-align: right;\n",
       "    }\n",
       "</style>\n",
       "<table border=\"1\" class=\"dataframe\">\n",
       "  <thead>\n",
       "    <tr style=\"text-align: right;\">\n",
       "      <th></th>\n",
       "      <th>Empty Slots</th>\n",
       "      <th>Available Bikes</th>\n",
       "      <th>Total Slots</th>\n",
       "      <th>Proportion of Available Bikes (%)</th>\n",
       "      <th>Bars - Open</th>\n",
       "      <th>Restaurants - Open</th>\n",
       "      <th>Shopping - Open</th>\n",
       "      <th>Education - Open</th>\n",
       "      <th>Arts and Entertainment - Open</th>\n",
       "      <th>Total - Open Venues</th>\n",
       "    </tr>\n",
       "  </thead>\n",
       "  <tbody>\n",
       "    <tr>\n",
       "      <th>Empty Slots</th>\n",
       "      <td>1.000000</td>\n",
       "      <td>-0.560965</td>\n",
       "      <td>0.480242</td>\n",
       "      <td>-0.808078</td>\n",
       "      <td>0.081201</td>\n",
       "      <td>-0.015038</td>\n",
       "      <td>-0.067019</td>\n",
       "      <td>0.021419</td>\n",
       "      <td>-0.095965</td>\n",
       "      <td>-0.045544</td>\n",
       "    </tr>\n",
       "    <tr>\n",
       "      <th>Available Bikes</th>\n",
       "      <td>-0.560965</td>\n",
       "      <td>1.000000</td>\n",
       "      <td>0.452941</td>\n",
       "      <td>0.886866</td>\n",
       "      <td>0.076620</td>\n",
       "      <td>0.202459</td>\n",
       "      <td>0.210332</td>\n",
       "      <td>0.134494</td>\n",
       "      <td>0.141493</td>\n",
       "      <td>0.240093</td>\n",
       "    </tr>\n",
       "    <tr>\n",
       "      <th>Total Slots</th>\n",
       "      <td>0.480242</td>\n",
       "      <td>0.452941</td>\n",
       "      <td>1.000000</td>\n",
       "      <td>0.066684</td>\n",
       "      <td>0.166735</td>\n",
       "      <td>0.194107</td>\n",
       "      <td>0.145752</td>\n",
       "      <td>0.160395</td>\n",
       "      <td>0.041893</td>\n",
       "      <td>0.199698</td>\n",
       "    </tr>\n",
       "    <tr>\n",
       "      <th>Proportion of Available Bikes (%)</th>\n",
       "      <td>-0.808078</td>\n",
       "      <td>0.886866</td>\n",
       "      <td>0.066684</td>\n",
       "      <td>1.000000</td>\n",
       "      <td>-0.019305</td>\n",
       "      <td>0.115833</td>\n",
       "      <td>0.137297</td>\n",
       "      <td>0.040466</td>\n",
       "      <td>0.118909</td>\n",
       "      <td>0.143238</td>\n",
       "    </tr>\n",
       "    <tr>\n",
       "      <th>Bars - Open</th>\n",
       "      <td>0.081201</td>\n",
       "      <td>0.076620</td>\n",
       "      <td>0.166735</td>\n",
       "      <td>-0.019305</td>\n",
       "      <td>1.000000</td>\n",
       "      <td>0.542371</td>\n",
       "      <td>0.372032</td>\n",
       "      <td>0.433876</td>\n",
       "      <td>0.172078</td>\n",
       "      <td>0.576540</td>\n",
       "    </tr>\n",
       "    <tr>\n",
       "      <th>Restaurants - Open</th>\n",
       "      <td>-0.015038</td>\n",
       "      <td>0.202459</td>\n",
       "      <td>0.194107</td>\n",
       "      <td>0.115833</td>\n",
       "      <td>0.542371</td>\n",
       "      <td>1.000000</td>\n",
       "      <td>0.576862</td>\n",
       "      <td>0.272423</td>\n",
       "      <td>0.158056</td>\n",
       "      <td>0.867577</td>\n",
       "    </tr>\n",
       "    <tr>\n",
       "      <th>Shopping - Open</th>\n",
       "      <td>-0.067019</td>\n",
       "      <td>0.210332</td>\n",
       "      <td>0.145752</td>\n",
       "      <td>0.137297</td>\n",
       "      <td>0.372032</td>\n",
       "      <td>0.576862</td>\n",
       "      <td>1.000000</td>\n",
       "      <td>0.276033</td>\n",
       "      <td>0.235418</td>\n",
       "      <td>0.890389</td>\n",
       "    </tr>\n",
       "    <tr>\n",
       "      <th>Education - Open</th>\n",
       "      <td>0.021419</td>\n",
       "      <td>0.134494</td>\n",
       "      <td>0.160395</td>\n",
       "      <td>0.040466</td>\n",
       "      <td>0.433876</td>\n",
       "      <td>0.272423</td>\n",
       "      <td>0.276033</td>\n",
       "      <td>1.000000</td>\n",
       "      <td>0.150944</td>\n",
       "      <td>0.397296</td>\n",
       "    </tr>\n",
       "    <tr>\n",
       "      <th>Arts and Entertainment - Open</th>\n",
       "      <td>-0.095965</td>\n",
       "      <td>0.141493</td>\n",
       "      <td>0.041893</td>\n",
       "      <td>0.118909</td>\n",
       "      <td>0.172078</td>\n",
       "      <td>0.158056</td>\n",
       "      <td>0.235418</td>\n",
       "      <td>0.150944</td>\n",
       "      <td>1.000000</td>\n",
       "      <td>0.314661</td>\n",
       "    </tr>\n",
       "    <tr>\n",
       "      <th>Total - Open Venues</th>\n",
       "      <td>-0.045544</td>\n",
       "      <td>0.240093</td>\n",
       "      <td>0.199698</td>\n",
       "      <td>0.143238</td>\n",
       "      <td>0.576540</td>\n",
       "      <td>0.867577</td>\n",
       "      <td>0.890389</td>\n",
       "      <td>0.397296</td>\n",
       "      <td>0.314661</td>\n",
       "      <td>1.000000</td>\n",
       "    </tr>\n",
       "  </tbody>\n",
       "</table>\n",
       "</div>"
      ],
      "text/plain": [
       "                                   Empty Slots  Available Bikes  Total Slots  \\\n",
       "Empty Slots                           1.000000        -0.560965     0.480242   \n",
       "Available Bikes                      -0.560965         1.000000     0.452941   \n",
       "Total Slots                           0.480242         0.452941     1.000000   \n",
       "Proportion of Available Bikes (%)    -0.808078         0.886866     0.066684   \n",
       "Bars - Open                           0.081201         0.076620     0.166735   \n",
       "Restaurants - Open                   -0.015038         0.202459     0.194107   \n",
       "Shopping - Open                      -0.067019         0.210332     0.145752   \n",
       "Education - Open                      0.021419         0.134494     0.160395   \n",
       "Arts and Entertainment - Open        -0.095965         0.141493     0.041893   \n",
       "Total - Open Venues                  -0.045544         0.240093     0.199698   \n",
       "\n",
       "                                   Proportion of Available Bikes (%)  \\\n",
       "Empty Slots                                                -0.808078   \n",
       "Available Bikes                                             0.886866   \n",
       "Total Slots                                                 0.066684   \n",
       "Proportion of Available Bikes (%)                           1.000000   \n",
       "Bars - Open                                                -0.019305   \n",
       "Restaurants - Open                                          0.115833   \n",
       "Shopping - Open                                             0.137297   \n",
       "Education - Open                                            0.040466   \n",
       "Arts and Entertainment - Open                               0.118909   \n",
       "Total - Open Venues                                         0.143238   \n",
       "\n",
       "                                   Bars - Open  Restaurants - Open  \\\n",
       "Empty Slots                           0.081201           -0.015038   \n",
       "Available Bikes                       0.076620            0.202459   \n",
       "Total Slots                           0.166735            0.194107   \n",
       "Proportion of Available Bikes (%)    -0.019305            0.115833   \n",
       "Bars - Open                           1.000000            0.542371   \n",
       "Restaurants - Open                    0.542371            1.000000   \n",
       "Shopping - Open                       0.372032            0.576862   \n",
       "Education - Open                      0.433876            0.272423   \n",
       "Arts and Entertainment - Open         0.172078            0.158056   \n",
       "Total - Open Venues                   0.576540            0.867577   \n",
       "\n",
       "                                   Shopping - Open  Education - Open  \\\n",
       "Empty Slots                              -0.067019          0.021419   \n",
       "Available Bikes                           0.210332          0.134494   \n",
       "Total Slots                               0.145752          0.160395   \n",
       "Proportion of Available Bikes (%)         0.137297          0.040466   \n",
       "Bars - Open                               0.372032          0.433876   \n",
       "Restaurants - Open                        0.576862          0.272423   \n",
       "Shopping - Open                           1.000000          0.276033   \n",
       "Education - Open                          0.276033          1.000000   \n",
       "Arts and Entertainment - Open             0.235418          0.150944   \n",
       "Total - Open Venues                       0.890389          0.397296   \n",
       "\n",
       "                                   Arts and Entertainment - Open  \\\n",
       "Empty Slots                                            -0.095965   \n",
       "Available Bikes                                         0.141493   \n",
       "Total Slots                                             0.041893   \n",
       "Proportion of Available Bikes (%)                       0.118909   \n",
       "Bars - Open                                             0.172078   \n",
       "Restaurants - Open                                      0.158056   \n",
       "Shopping - Open                                         0.235418   \n",
       "Education - Open                                        0.150944   \n",
       "Arts and Entertainment - Open                           1.000000   \n",
       "Total - Open Venues                                     0.314661   \n",
       "\n",
       "                                   Total - Open Venues  \n",
       "Empty Slots                                  -0.045544  \n",
       "Available Bikes                               0.240093  \n",
       "Total Slots                                   0.199698  \n",
       "Proportion of Available Bikes (%)             0.143238  \n",
       "Bars - Open                                   0.576540  \n",
       "Restaurants - Open                            0.867577  \n",
       "Shopping - Open                               0.890389  \n",
       "Education - Open                              0.397296  \n",
       "Arts and Entertainment - Open                 0.314661  \n",
       "Total - Open Venues                           1.000000  "
      ]
     },
     "execution_count": 14,
     "metadata": {},
     "output_type": "execute_result"
    }
   ],
   "source": [
    "open_correlation_df.corr()"
   ]
  },
  {
   "cell_type": "code",
   "execution_count": 15,
   "metadata": {},
   "outputs": [
    {
     "data": {
      "text/html": [
       "<div>\n",
       "<style scoped>\n",
       "    .dataframe tbody tr th:only-of-type {\n",
       "        vertical-align: middle;\n",
       "    }\n",
       "\n",
       "    .dataframe tbody tr th {\n",
       "        vertical-align: top;\n",
       "    }\n",
       "\n",
       "    .dataframe thead th {\n",
       "        text-align: right;\n",
       "    }\n",
       "</style>\n",
       "<table border=\"1\" class=\"dataframe\">\n",
       "  <thead>\n",
       "    <tr style=\"text-align: right;\">\n",
       "      <th></th>\n",
       "      <th>Empty Slots</th>\n",
       "      <th>Available Bikes</th>\n",
       "      <th>Total Slots</th>\n",
       "      <th>Proportion of Available Bikes (%)</th>\n",
       "    </tr>\n",
       "  </thead>\n",
       "  <tbody>\n",
       "    <tr>\n",
       "      <th>Bars - Open</th>\n",
       "      <td>0.081201</td>\n",
       "      <td>0.076620</td>\n",
       "      <td>0.166735</td>\n",
       "      <td>-0.019305</td>\n",
       "    </tr>\n",
       "    <tr>\n",
       "      <th>Restaurants - Open</th>\n",
       "      <td>-0.015038</td>\n",
       "      <td>0.202459</td>\n",
       "      <td>0.194107</td>\n",
       "      <td>0.115833</td>\n",
       "    </tr>\n",
       "    <tr>\n",
       "      <th>Shopping - Open</th>\n",
       "      <td>-0.067019</td>\n",
       "      <td>0.210332</td>\n",
       "      <td>0.145752</td>\n",
       "      <td>0.137297</td>\n",
       "    </tr>\n",
       "    <tr>\n",
       "      <th>Education - Open</th>\n",
       "      <td>0.021419</td>\n",
       "      <td>0.134494</td>\n",
       "      <td>0.160395</td>\n",
       "      <td>0.040466</td>\n",
       "    </tr>\n",
       "    <tr>\n",
       "      <th>Arts and Entertainment - Open</th>\n",
       "      <td>-0.095965</td>\n",
       "      <td>0.141493</td>\n",
       "      <td>0.041893</td>\n",
       "      <td>0.118909</td>\n",
       "    </tr>\n",
       "    <tr>\n",
       "      <th>Total - Open Venues</th>\n",
       "      <td>-0.045544</td>\n",
       "      <td>0.240093</td>\n",
       "      <td>0.199698</td>\n",
       "      <td>0.143238</td>\n",
       "    </tr>\n",
       "  </tbody>\n",
       "</table>\n",
       "</div>"
      ],
      "text/plain": [
       "                               Empty Slots  Available Bikes  Total Slots  \\\n",
       "Bars - Open                       0.081201         0.076620     0.166735   \n",
       "Restaurants - Open               -0.015038         0.202459     0.194107   \n",
       "Shopping - Open                  -0.067019         0.210332     0.145752   \n",
       "Education - Open                  0.021419         0.134494     0.160395   \n",
       "Arts and Entertainment - Open    -0.095965         0.141493     0.041893   \n",
       "Total - Open Venues              -0.045544         0.240093     0.199698   \n",
       "\n",
       "                               Proportion of Available Bikes (%)  \n",
       "Bars - Open                                            -0.019305  \n",
       "Restaurants - Open                                      0.115833  \n",
       "Shopping - Open                                         0.137297  \n",
       "Education - Open                                        0.040466  \n",
       "Arts and Entertainment - Open                           0.118909  \n",
       "Total - Open Venues                                     0.143238  "
      ]
     },
     "execution_count": 15,
     "metadata": {},
     "output_type": "execute_result"
    }
   ],
   "source": [
    "#Subset for useful correlation info\n",
    "#open venues\n",
    "relevant_open_corr_df = open_correlation_df.corr().iloc[4:,0:4]\n",
    "relevant_open_corr_df"
   ]
  },
  {
   "cell_type": "code",
   "execution_count": 16,
   "metadata": {},
   "outputs": [
    {
     "name": "stdout",
     "output_type": "stream",
     "text": [
      "['Station ID', 'Station Name', 'latitude', 'longitude', 'Empty Slots', 'Available Bikes', 'Total Slots', 'Proportion of Available Bikes (%)', 'Bars - All', 'Bars - Open', 'Restaurants - All', 'Restaurants - Open', 'Shopping - All', 'Shopping - Open', 'Education - All', 'Education - Open', 'Arts and Entertainment - All', 'Arts and Entertainment - Open', 'Total - All Venues', 'Total - Open Venues']\n"
     ]
    }
   ],
   "source": [
    "comb_cols = list(df_combined.columns.values)\n",
    "print(comb_cols)"
   ]
  },
  {
   "cell_type": "code",
   "execution_count": 17,
   "metadata": {},
   "outputs": [
    {
     "data": {
      "text/html": [
       "<div>\n",
       "<style scoped>\n",
       "    .dataframe tbody tr th:only-of-type {\n",
       "        vertical-align: middle;\n",
       "    }\n",
       "\n",
       "    .dataframe tbody tr th {\n",
       "        vertical-align: top;\n",
       "    }\n",
       "\n",
       "    .dataframe thead th {\n",
       "        text-align: right;\n",
       "    }\n",
       "</style>\n",
       "<table border=\"1\" class=\"dataframe\">\n",
       "  <thead>\n",
       "    <tr style=\"text-align: right;\">\n",
       "      <th></th>\n",
       "      <th>Empty Slots</th>\n",
       "      <th>Available Bikes</th>\n",
       "      <th>Total Slots</th>\n",
       "      <th>Proportion of Available Bikes (%)</th>\n",
       "      <th>Bars - All</th>\n",
       "      <th>Restaurants - All</th>\n",
       "      <th>Shopping - All</th>\n",
       "      <th>Education - All</th>\n",
       "      <th>Arts and Entertainment - All</th>\n",
       "      <th>Total - All Venues</th>\n",
       "    </tr>\n",
       "  </thead>\n",
       "  <tbody>\n",
       "    <tr>\n",
       "      <th>0</th>\n",
       "      <td>16</td>\n",
       "      <td>19</td>\n",
       "      <td>35</td>\n",
       "      <td>54.0</td>\n",
       "      <td>1.0</td>\n",
       "      <td>7.0</td>\n",
       "      <td>4.0</td>\n",
       "      <td>1.0</td>\n",
       "      <td>1.0</td>\n",
       "      <td>14.0</td>\n",
       "    </tr>\n",
       "    <tr>\n",
       "      <th>1</th>\n",
       "      <td>7</td>\n",
       "      <td>9</td>\n",
       "      <td>16</td>\n",
       "      <td>56.0</td>\n",
       "      <td>7.0</td>\n",
       "      <td>25.0</td>\n",
       "      <td>23.0</td>\n",
       "      <td>2.0</td>\n",
       "      <td>3.0</td>\n",
       "      <td>60.0</td>\n",
       "    </tr>\n",
       "  </tbody>\n",
       "</table>\n",
       "</div>"
      ],
      "text/plain": [
       "   Empty Slots  Available Bikes  Total Slots  \\\n",
       "0           16               19           35   \n",
       "1            7                9           16   \n",
       "\n",
       "   Proportion of Available Bikes (%)  Bars - All  Restaurants - All  \\\n",
       "0                               54.0         1.0                7.0   \n",
       "1                               56.0         7.0               25.0   \n",
       "\n",
       "   Shopping - All  Education - All  Arts and Entertainment - All  \\\n",
       "0             4.0              1.0                           1.0   \n",
       "1            23.0              2.0                           3.0   \n",
       "\n",
       "   Total - All Venues  \n",
       "0                14.0  \n",
       "1                60.0  "
      ]
     },
     "execution_count": 17,
     "metadata": {},
     "output_type": "execute_result"
    }
   ],
   "source": [
    "#Create df of columns to look at correlation for total venues. \n",
    "\n",
    "total_correlation_df = df_combined[['Empty Slots', 'Available Bikes', 'Total Slots', 'Proportion of Available Bikes (%)', 'Bars - All', 'Restaurants - All', 'Shopping - All', 'Education - All', 'Arts and Entertainment - All', 'Total - All Venues']]\n",
    "total_correlation_df.head(2)"
   ]
  },
  {
   "cell_type": "code",
   "execution_count": 18,
   "metadata": {},
   "outputs": [
    {
     "data": {
      "text/html": [
       "<div>\n",
       "<style scoped>\n",
       "    .dataframe tbody tr th:only-of-type {\n",
       "        vertical-align: middle;\n",
       "    }\n",
       "\n",
       "    .dataframe tbody tr th {\n",
       "        vertical-align: top;\n",
       "    }\n",
       "\n",
       "    .dataframe thead th {\n",
       "        text-align: right;\n",
       "    }\n",
       "</style>\n",
       "<table border=\"1\" class=\"dataframe\">\n",
       "  <thead>\n",
       "    <tr style=\"text-align: right;\">\n",
       "      <th></th>\n",
       "      <th>Empty Slots</th>\n",
       "      <th>Available Bikes</th>\n",
       "      <th>Total Slots</th>\n",
       "      <th>Proportion of Available Bikes (%)</th>\n",
       "      <th>Bars - All</th>\n",
       "      <th>Restaurants - All</th>\n",
       "      <th>Shopping - All</th>\n",
       "      <th>Education - All</th>\n",
       "      <th>Arts and Entertainment - All</th>\n",
       "      <th>Total - All Venues</th>\n",
       "    </tr>\n",
       "  </thead>\n",
       "  <tbody>\n",
       "    <tr>\n",
       "      <th>Empty Slots</th>\n",
       "      <td>1.000000</td>\n",
       "      <td>-0.560965</td>\n",
       "      <td>0.480242</td>\n",
       "      <td>-0.808078</td>\n",
       "      <td>0.030488</td>\n",
       "      <td>-0.016357</td>\n",
       "      <td>-0.072876</td>\n",
       "      <td>-0.001160</td>\n",
       "      <td>-0.077830</td>\n",
       "      <td>-0.050306</td>\n",
       "    </tr>\n",
       "    <tr>\n",
       "      <th>Available Bikes</th>\n",
       "      <td>-0.560965</td>\n",
       "      <td>1.000000</td>\n",
       "      <td>0.452941</td>\n",
       "      <td>0.886866</td>\n",
       "      <td>0.075590</td>\n",
       "      <td>0.211310</td>\n",
       "      <td>0.261111</td>\n",
       "      <td>0.113321</td>\n",
       "      <td>0.202670</td>\n",
       "      <td>0.258458</td>\n",
       "    </tr>\n",
       "    <tr>\n",
       "      <th>Total Slots</th>\n",
       "      <td>0.480242</td>\n",
       "      <td>0.452941</td>\n",
       "      <td>1.000000</td>\n",
       "      <td>0.066684</td>\n",
       "      <td>0.107755</td>\n",
       "      <td>0.201846</td>\n",
       "      <td>0.193834</td>\n",
       "      <td>0.115751</td>\n",
       "      <td>0.124676</td>\n",
       "      <td>0.214309</td>\n",
       "    </tr>\n",
       "    <tr>\n",
       "      <th>Proportion of Available Bikes (%)</th>\n",
       "      <td>-0.808078</td>\n",
       "      <td>0.886866</td>\n",
       "      <td>0.066684</td>\n",
       "      <td>1.000000</td>\n",
       "      <td>0.010171</td>\n",
       "      <td>0.117042</td>\n",
       "      <td>0.163216</td>\n",
       "      <td>0.050501</td>\n",
       "      <td>0.139318</td>\n",
       "      <td>0.151718</td>\n",
       "    </tr>\n",
       "    <tr>\n",
       "      <th>Bars - All</th>\n",
       "      <td>0.030488</td>\n",
       "      <td>0.075590</td>\n",
       "      <td>0.107755</td>\n",
       "      <td>0.010171</td>\n",
       "      <td>1.000000</td>\n",
       "      <td>0.638370</td>\n",
       "      <td>0.429765</td>\n",
       "      <td>0.359993</td>\n",
       "      <td>0.427529</td>\n",
       "      <td>0.624459</td>\n",
       "    </tr>\n",
       "    <tr>\n",
       "      <th>Restaurants - All</th>\n",
       "      <td>-0.016357</td>\n",
       "      <td>0.211310</td>\n",
       "      <td>0.201846</td>\n",
       "      <td>0.117042</td>\n",
       "      <td>0.638370</td>\n",
       "      <td>1.000000</td>\n",
       "      <td>0.663649</td>\n",
       "      <td>0.368491</td>\n",
       "      <td>0.366630</td>\n",
       "      <td>0.855473</td>\n",
       "    </tr>\n",
       "    <tr>\n",
       "      <th>Shopping - All</th>\n",
       "      <td>-0.072876</td>\n",
       "      <td>0.261111</td>\n",
       "      <td>0.193834</td>\n",
       "      <td>0.163216</td>\n",
       "      <td>0.429765</td>\n",
       "      <td>0.663649</td>\n",
       "      <td>1.000000</td>\n",
       "      <td>0.502973</td>\n",
       "      <td>0.525581</td>\n",
       "      <td>0.928638</td>\n",
       "    </tr>\n",
       "    <tr>\n",
       "      <th>Education - All</th>\n",
       "      <td>-0.001160</td>\n",
       "      <td>0.113321</td>\n",
       "      <td>0.115751</td>\n",
       "      <td>0.050501</td>\n",
       "      <td>0.359993</td>\n",
       "      <td>0.368491</td>\n",
       "      <td>0.502973</td>\n",
       "      <td>1.000000</td>\n",
       "      <td>0.318719</td>\n",
       "      <td>0.614316</td>\n",
       "    </tr>\n",
       "    <tr>\n",
       "      <th>Arts and Entertainment - All</th>\n",
       "      <td>-0.077830</td>\n",
       "      <td>0.202670</td>\n",
       "      <td>0.124676</td>\n",
       "      <td>0.139318</td>\n",
       "      <td>0.427529</td>\n",
       "      <td>0.366630</td>\n",
       "      <td>0.525581</td>\n",
       "      <td>0.318719</td>\n",
       "      <td>1.000000</td>\n",
       "      <td>0.589962</td>\n",
       "    </tr>\n",
       "    <tr>\n",
       "      <th>Total - All Venues</th>\n",
       "      <td>-0.050306</td>\n",
       "      <td>0.258458</td>\n",
       "      <td>0.214309</td>\n",
       "      <td>0.151718</td>\n",
       "      <td>0.624459</td>\n",
       "      <td>0.855473</td>\n",
       "      <td>0.928638</td>\n",
       "      <td>0.614316</td>\n",
       "      <td>0.589962</td>\n",
       "      <td>1.000000</td>\n",
       "    </tr>\n",
       "  </tbody>\n",
       "</table>\n",
       "</div>"
      ],
      "text/plain": [
       "                                   Empty Slots  Available Bikes  Total Slots  \\\n",
       "Empty Slots                           1.000000        -0.560965     0.480242   \n",
       "Available Bikes                      -0.560965         1.000000     0.452941   \n",
       "Total Slots                           0.480242         0.452941     1.000000   \n",
       "Proportion of Available Bikes (%)    -0.808078         0.886866     0.066684   \n",
       "Bars - All                            0.030488         0.075590     0.107755   \n",
       "Restaurants - All                    -0.016357         0.211310     0.201846   \n",
       "Shopping - All                       -0.072876         0.261111     0.193834   \n",
       "Education - All                      -0.001160         0.113321     0.115751   \n",
       "Arts and Entertainment - All         -0.077830         0.202670     0.124676   \n",
       "Total - All Venues                   -0.050306         0.258458     0.214309   \n",
       "\n",
       "                                   Proportion of Available Bikes (%)  \\\n",
       "Empty Slots                                                -0.808078   \n",
       "Available Bikes                                             0.886866   \n",
       "Total Slots                                                 0.066684   \n",
       "Proportion of Available Bikes (%)                           1.000000   \n",
       "Bars - All                                                  0.010171   \n",
       "Restaurants - All                                           0.117042   \n",
       "Shopping - All                                              0.163216   \n",
       "Education - All                                             0.050501   \n",
       "Arts and Entertainment - All                                0.139318   \n",
       "Total - All Venues                                          0.151718   \n",
       "\n",
       "                                   Bars - All  Restaurants - All  \\\n",
       "Empty Slots                          0.030488          -0.016357   \n",
       "Available Bikes                      0.075590           0.211310   \n",
       "Total Slots                          0.107755           0.201846   \n",
       "Proportion of Available Bikes (%)    0.010171           0.117042   \n",
       "Bars - All                           1.000000           0.638370   \n",
       "Restaurants - All                    0.638370           1.000000   \n",
       "Shopping - All                       0.429765           0.663649   \n",
       "Education - All                      0.359993           0.368491   \n",
       "Arts and Entertainment - All         0.427529           0.366630   \n",
       "Total - All Venues                   0.624459           0.855473   \n",
       "\n",
       "                                   Shopping - All  Education - All  \\\n",
       "Empty Slots                             -0.072876        -0.001160   \n",
       "Available Bikes                          0.261111         0.113321   \n",
       "Total Slots                              0.193834         0.115751   \n",
       "Proportion of Available Bikes (%)        0.163216         0.050501   \n",
       "Bars - All                               0.429765         0.359993   \n",
       "Restaurants - All                        0.663649         0.368491   \n",
       "Shopping - All                           1.000000         0.502973   \n",
       "Education - All                          0.502973         1.000000   \n",
       "Arts and Entertainment - All             0.525581         0.318719   \n",
       "Total - All Venues                       0.928638         0.614316   \n",
       "\n",
       "                                   Arts and Entertainment - All  \\\n",
       "Empty Slots                                           -0.077830   \n",
       "Available Bikes                                        0.202670   \n",
       "Total Slots                                            0.124676   \n",
       "Proportion of Available Bikes (%)                      0.139318   \n",
       "Bars - All                                             0.427529   \n",
       "Restaurants - All                                      0.366630   \n",
       "Shopping - All                                         0.525581   \n",
       "Education - All                                        0.318719   \n",
       "Arts and Entertainment - All                           1.000000   \n",
       "Total - All Venues                                     0.589962   \n",
       "\n",
       "                                   Total - All Venues  \n",
       "Empty Slots                                 -0.050306  \n",
       "Available Bikes                              0.258458  \n",
       "Total Slots                                  0.214309  \n",
       "Proportion of Available Bikes (%)            0.151718  \n",
       "Bars - All                                   0.624459  \n",
       "Restaurants - All                            0.855473  \n",
       "Shopping - All                               0.928638  \n",
       "Education - All                              0.614316  \n",
       "Arts and Entertainment - All                 0.589962  \n",
       "Total - All Venues                           1.000000  "
      ]
     },
     "execution_count": 18,
     "metadata": {},
     "output_type": "execute_result"
    }
   ],
   "source": [
    "total_correlation_df.corr()"
   ]
  },
  {
   "cell_type": "code",
   "execution_count": 19,
   "metadata": {},
   "outputs": [
    {
     "data": {
      "text/html": [
       "<div>\n",
       "<style scoped>\n",
       "    .dataframe tbody tr th:only-of-type {\n",
       "        vertical-align: middle;\n",
       "    }\n",
       "\n",
       "    .dataframe tbody tr th {\n",
       "        vertical-align: top;\n",
       "    }\n",
       "\n",
       "    .dataframe thead th {\n",
       "        text-align: right;\n",
       "    }\n",
       "</style>\n",
       "<table border=\"1\" class=\"dataframe\">\n",
       "  <thead>\n",
       "    <tr style=\"text-align: right;\">\n",
       "      <th></th>\n",
       "      <th>Empty Slots</th>\n",
       "      <th>Available Bikes</th>\n",
       "      <th>Total Slots</th>\n",
       "      <th>Proportion of Available Bikes (%)</th>\n",
       "    </tr>\n",
       "  </thead>\n",
       "  <tbody>\n",
       "    <tr>\n",
       "      <th>Bars - All</th>\n",
       "      <td>0.030488</td>\n",
       "      <td>0.075590</td>\n",
       "      <td>0.107755</td>\n",
       "      <td>0.010171</td>\n",
       "    </tr>\n",
       "    <tr>\n",
       "      <th>Restaurants - All</th>\n",
       "      <td>-0.016357</td>\n",
       "      <td>0.211310</td>\n",
       "      <td>0.201846</td>\n",
       "      <td>0.117042</td>\n",
       "    </tr>\n",
       "    <tr>\n",
       "      <th>Shopping - All</th>\n",
       "      <td>-0.072876</td>\n",
       "      <td>0.261111</td>\n",
       "      <td>0.193834</td>\n",
       "      <td>0.163216</td>\n",
       "    </tr>\n",
       "    <tr>\n",
       "      <th>Education - All</th>\n",
       "      <td>-0.001160</td>\n",
       "      <td>0.113321</td>\n",
       "      <td>0.115751</td>\n",
       "      <td>0.050501</td>\n",
       "    </tr>\n",
       "    <tr>\n",
       "      <th>Arts and Entertainment - All</th>\n",
       "      <td>-0.077830</td>\n",
       "      <td>0.202670</td>\n",
       "      <td>0.124676</td>\n",
       "      <td>0.139318</td>\n",
       "    </tr>\n",
       "    <tr>\n",
       "      <th>Total - All Venues</th>\n",
       "      <td>-0.050306</td>\n",
       "      <td>0.258458</td>\n",
       "      <td>0.214309</td>\n",
       "      <td>0.151718</td>\n",
       "    </tr>\n",
       "  </tbody>\n",
       "</table>\n",
       "</div>"
      ],
      "text/plain": [
       "                              Empty Slots  Available Bikes  Total Slots  \\\n",
       "Bars - All                       0.030488         0.075590     0.107755   \n",
       "Restaurants - All               -0.016357         0.211310     0.201846   \n",
       "Shopping - All                  -0.072876         0.261111     0.193834   \n",
       "Education - All                 -0.001160         0.113321     0.115751   \n",
       "Arts and Entertainment - All    -0.077830         0.202670     0.124676   \n",
       "Total - All Venues              -0.050306         0.258458     0.214309   \n",
       "\n",
       "                              Proportion of Available Bikes (%)  \n",
       "Bars - All                                             0.010171  \n",
       "Restaurants - All                                      0.117042  \n",
       "Shopping - All                                         0.163216  \n",
       "Education - All                                        0.050501  \n",
       "Arts and Entertainment - All                           0.139318  \n",
       "Total - All Venues                                     0.151718  "
      ]
     },
     "execution_count": 19,
     "metadata": {},
     "output_type": "execute_result"
    }
   ],
   "source": [
    "#Subset for useful correlation info\n",
    "#total venues\n",
    "relevant_total_corr_df = total_correlation_df.corr().iloc[4:,0:4]\n",
    "relevant_total_corr_df"
   ]
  },
  {
   "cell_type": "code",
   "execution_count": 20,
   "metadata": {},
   "outputs": [],
   "source": [
    "import seaborn as sns"
   ]
  },
  {
   "cell_type": "code",
   "execution_count": 21,
   "metadata": {},
   "outputs": [
    {
     "data": {
      "text/plain": [
       "<AxesSubplot:>"
      ]
     },
     "execution_count": 21,
     "metadata": {},
     "output_type": "execute_result"
    },
    {
     "data": {
      "image/png": "[encoded data removed]",
      "text/plain": [
       "<Figure size 432x288 with 2 Axes>"
      ]
     },
     "metadata": {
      "needs_background": "light"
     },
     "output_type": "display_data"
    }
   ],
   "source": [
    "sns.heatmap(relevant_open_corr_df)"
   ]
  },
  {
   "cell_type": "code",
   "execution_count": 22,
   "metadata": {},
   "outputs": [
    {
     "data": {
      "text/plain": [
       "<AxesSubplot:>"
      ]
     },
     "execution_count": 22,
     "metadata": {},
     "output_type": "execute_result"
    },
    {
     "data": {
      "image/png": "[encoded data removed]",
      "text/plain": [
       "<Figure size 432x288 with 2 Axes>"
      ]
     },
     "metadata": {
      "needs_background": "light"
     },
     "output_type": "display_data"
    }
   ],
   "source": [
    "sns.heatmap(relevant_total_corr_df)"
   ]
  },
  {
   "cell_type": "code",
   "execution_count": 23,
   "metadata": {},
   "outputs": [],
   "source": [
    "import seaborn as sns"
   ]
  },
  {
   "cell_type": "code",
   "execution_count": null,
   "metadata": {},
   "outputs": [],
   "source": [
    "sns.pairplot(open_correlation_df)\n",
    "plt.show()"
   ]
  },
  {
   "cell_type": "code",
   "execution_count": null,
   "metadata": {
    "tags": []
   },
   "outputs": [],
   "source": [
    "sns.pairplot(total_correlation_df)\n",
    "plt.show()"
   ]
  },
  {
   "cell_type": "code",
   "execution_count": null,
   "metadata": {},
   "outputs": [],
   "source": [
    "#Hypotheses to test: \n",
    "#Larger bike stations are installed where there are more businesses within 100 m - use Pearson's Correlation Coefficient\n",
    "#Larger bike stations are installed where there are more restaurants within 100 m - use Pearson's Correlation Coefficient"
   ]
  },
  {
   "cell_type": "code",
   "execution_count": null,
   "metadata": {},
   "outputs": [],
   "source": [
    "from scipy import stats"
   ]
  },
  {
   "cell_type": "code",
   "execution_count": null,
   "metadata": {},
   "outputs": [],
   "source": [
    "df_combined.head(1)"
   ]
  },
  {
   "cell_type": "code",
   "execution_count": null,
   "metadata": {},
   "outputs": [],
   "source": [
    "#Set variables for hypothesis testing\n",
    "total_slots = df_combined[\"Total Slots\"]\n",
    "total_venues = df_combined[\"Total - All Venues\"]\n",
    "total_restaurants = df_combined[\"Restaurants - All\"]"
   ]
  },
  {
   "cell_type": "code",
   "execution_count": null,
   "metadata": {},
   "outputs": [],
   "source": [
    "#Check if any/all variables follow normal distributions. \n",
    "#Check using Shapiro-Wilk Tests\n",
    "#Null hypothesis is that data is normally distributed\n",
    "stat, p = stats.shapiro(total_slots)\n",
    "if p >= 0.05:\n",
    "    print(\"total_slots is normally distributed\")\n",
    "else:\n",
    "    print(\"total_slots is not normally distributed\")\n",
    "\n",
    "stat, p = stats.shapiro(total_venues)\n",
    "if p >= 0.05:\n",
    "    print(\"total_venues is normally distributed\")\n",
    "else:\n",
    "    print(\"total_venues is not normally distributed\")\n",
    "\n",
    "stat, p = stats.shapiro(total_restaurants)\n",
    "if p >= 0.05:\n",
    "    print(\"total_restaurants is normally distributed\")\n",
    "else:\n",
    "    print(\"total_restaurants is not normally distributed\")"
   ]
  },
  {
   "cell_type": "code",
   "execution_count": null,
   "metadata": {},
   "outputs": [],
   "source": [
    "#Test 1: \n",
    "#Are larger bike stations are installed where there are more businesses within 100 m\n",
    "#Use Pearson's Correlation Coefficient\n",
    "\n",
    "#Data to compare:\n",
    "#Total slots - call list total_slots\n",
    "#Number of total venues - total_venues\n",
    "#Null hypothesis: total_slots and total_venues are NOT correlated.\n",
    "#Pull this data from df_combined\n",
    "\n",
    "\n",
    "stat, p = stats.pearsonr(total_slots, total_venues)\n",
    "print(p)"
   ]
  },
  {
   "cell_type": "code",
   "execution_count": null,
   "metadata": {},
   "outputs": [],
   "source": [
    "#p-value < 0.05, so can reject the null hypothesis. Variables are correlated. \n",
    "#However data is not normally distributed, so I'm not sure if this is very useful. "
   ]
  },
  {
   "cell_type": "code",
   "execution_count": null,
   "metadata": {},
   "outputs": [],
   "source": [
    "#Test 2: \n",
    "#Larger bike stations are installed where there are more restaurants within 100 m\n",
    "#Use Pearson's Correlation Coefficient\n",
    "\n",
    "stat, p = stats.pearsonr(total_slots, total_restaurants)\n",
    "print(p)"
   ]
  },
  {
   "cell_type": "code",
   "execution_count": null,
   "metadata": {},
   "outputs": [],
   "source": [
    "#p-value < 0.05, so can reject the null hypothesis. Variables are correlated. \n",
    "#However data is not normally distributed, so I'm not sure if this is very useful."
   ]
  },
  {
   "cell_type": "markdown",
   "metadata": {},
   "source": [
    "# Database"
   ]
  },
  {
   "cell_type": "markdown",
   "metadata": {},
   "source": [
    "Put all your results in an SQLite3 database (remember, SQLite stores its databases as files in your local machine - make sure to create your database in your project's data/ directory!)"
   ]
  },
  {
   "cell_type": "code",
   "execution_count": null,
   "metadata": {},
   "outputs": [],
   "source": [
    "#Create 6 tables for database\n",
    "#starting point for tables is: \n",
    "    #df_stations\n",
    "        #split into station_locations and station_docks\n",
    "    #fs_df\n",
    "        #split into fs_venues and fs_venues_open\n",
    "    #yelp_df\n",
    "        #split into yelp_venues and yelp_venues_open"
   ]
  },
  {
   "cell_type": "code",
   "execution_count": null,
   "metadata": {},
   "outputs": [],
   "source": [
    "df_stations.head(2)"
   ]
  },
  {
   "cell_type": "code",
   "execution_count": null,
   "metadata": {},
   "outputs": [],
   "source": [
    "fs_df.head(2)"
   ]
  },
  {
   "cell_type": "code",
   "execution_count": null,
   "metadata": {},
   "outputs": [],
   "source": [
    "#Import yelp df from stored csv\n",
    "yelp_df = pd.read_csv(\"yelp_df_with_totals.csv\")\n",
    "yelp_df.head(2)"
   ]
  },
  {
   "cell_type": "code",
   "execution_count": null,
   "metadata": {},
   "outputs": [],
   "source": [
    "#Split df_stations into station_locations and station_docks\n",
    "df_stations_col_list = list(df_stations.columns.values)\n",
    "print(df_stations_col_list)"
   ]
  },
  {
   "cell_type": "code",
   "execution_count": null,
   "metadata": {},
   "outputs": [],
   "source": [
    "station_locations = df_stations[['Station ID', 'Station Name', 'latitude', 'longitude']]\n",
    "station_docks = df_stations[['Station ID', 'Empty Slots', 'Available Bikes', 'Total Slots', 'Proportion of Available Bikes (%)']]"
   ]
  },
  {
   "cell_type": "code",
   "execution_count": null,
   "metadata": {},
   "outputs": [],
   "source": [
    "station_locations.head(2)"
   ]
  },
  {
   "cell_type": "code",
   "execution_count": null,
   "metadata": {},
   "outputs": [],
   "source": [
    "station_docks.head(2)"
   ]
  },
  {
   "cell_type": "code",
   "execution_count": null,
   "metadata": {},
   "outputs": [],
   "source": [
    "#Split fs_df into fs_venues and fs_venues_open\n",
    "fs_df_col_list = list(fs_df.columns.values)\n",
    "print(fs_df_col_list)"
   ]
  },
  {
   "cell_type": "code",
   "execution_count": null,
   "metadata": {},
   "outputs": [],
   "source": [
    "fs_venues = fs_df[['Station ID', 'Bars - All', 'Restaurants - All', 'Shopping - All', 'Education - All', 'Arts and Entertainment - All', 'Total - All Venues']]\n",
    "fs_venues_open = fs_df[['Station ID', 'Bars - Open', 'Restaurants - Open', 'Shopping - Open', 'Education - Open', 'Arts and Entertainment - Open', 'Total - Open Venues']]"
   ]
  },
  {
   "cell_type": "code",
   "execution_count": null,
   "metadata": {},
   "outputs": [],
   "source": [
    "fs_venues.head(2)"
   ]
  },
  {
   "cell_type": "code",
   "execution_count": null,
   "metadata": {},
   "outputs": [],
   "source": [
    "fs_venues_open.head(2)"
   ]
  },
  {
   "cell_type": "code",
   "execution_count": null,
   "metadata": {},
   "outputs": [],
   "source": [
    "#Split yelp_df into yelp_venues and yelp_venues_open\n",
    "yelp_df_col_list = list(yelp_df.columns.values)\n",
    "print(yelp_df_col_list)"
   ]
  },
  {
   "cell_type": "code",
   "execution_count": null,
   "metadata": {},
   "outputs": [],
   "source": [
    "yelp_venues = fs_df[['Station ID', 'Bars - All', 'Restaurants - All', 'Shopping - All', 'Education - All', 'Arts and Entertainment - All', 'Total - All Venues']]\n",
    "yelp_venues_open = fs_df[['Station ID', 'Bars - Open', 'Restaurants - Open', 'Shopping - Open', 'Education - Open', 'Arts and Entertainment - Open', 'Total - Open Venues']]"
   ]
  },
  {
   "cell_type": "code",
   "execution_count": null,
   "metadata": {},
   "outputs": [],
   "source": [
    "yelp_venues.head(2)"
   ]
  },
  {
   "cell_type": "code",
   "execution_count": null,
   "metadata": {},
   "outputs": [],
   "source": [
    "yelp_venues_open.head(2)"
   ]
  },
  {
   "cell_type": "code",
   "execution_count": null,
   "metadata": {},
   "outputs": [],
   "source": [
    "station_locations = station_locations.set_index(\"Station ID\")"
   ]
  },
  {
   "cell_type": "code",
   "execution_count": null,
   "metadata": {},
   "outputs": [],
   "source": [
    "#Set index for all tables: \n",
    "\n",
    "#station_locations\n",
    "#station_docks\n",
    "\n",
    "station_docks = station_docks.set_index(\"Station ID\")\n",
    "\n",
    "#fs_venues\n",
    "#fs_venues_open\n",
    "fs_venues = fs_venues.set_index(\"Station ID\")\n",
    "fs_venues_open = fs_venues_open.set_index(\"Station ID\")\n",
    "\n",
    "#yelp_venues\n",
    "#yelp_venues_open\n",
    "yelp_venues = yelp_venues.set_index(\"Station ID\")\n",
    "yelp_venues_open = yelp_venues_open.set_index(\"Station ID\")"
   ]
  },
  {
   "cell_type": "code",
   "execution_count": null,
   "metadata": {},
   "outputs": [],
   "source": [
    "station_locations.head(2)"
   ]
  },
  {
   "cell_type": "code",
   "execution_count": null,
   "metadata": {},
   "outputs": [],
   "source": [
    "station_docks.head(2)"
   ]
  },
  {
   "cell_type": "code",
   "execution_count": null,
   "metadata": {},
   "outputs": [],
   "source": [
    "fs_venues.head(2)"
   ]
  },
  {
   "cell_type": "code",
   "execution_count": null,
   "metadata": {},
   "outputs": [],
   "source": [
    "fs_venues_open.head(2)"
   ]
  },
  {
   "cell_type": "code",
   "execution_count": null,
   "metadata": {},
   "outputs": [],
   "source": [
    "yelp_venues.head(2)"
   ]
  },
  {
   "cell_type": "code",
   "execution_count": null,
   "metadata": {},
   "outputs": [],
   "source": [
    "yelp_venues_open.head(2)"
   ]
  },
  {
   "cell_type": "code",
   "execution_count": null,
   "metadata": {},
   "outputs": [],
   "source": [
    "import pandas as pd"
   ]
  },
  {
   "cell_type": "code",
   "execution_count": null,
   "metadata": {
    "tags": []
   },
   "outputs": [],
   "source": [
    "#Save all dfs for db as csv. \n",
    "station_docks.to_csv(\"station_docks.csv\")\n",
    "fs_venues.to_csv(\"fs_venues.csv\")\n",
    "fs_venues_open.to_csv(\"fs_venues_open.csv\")\n",
    "yelp_venues.to_csv(\"yelp_venues.csv\")\n",
    "yelp_venues_open.to_csv(\"yelp_venues_open.csv\")"
   ]
  },
  {
   "cell_type": "code",
   "execution_count": null,
   "metadata": {},
   "outputs": [],
   "source": [
    "station_locations = pd.read_csv(\"station_locations.csv\")\n",
    "station_docks = pd.read_csv(\"station_docks.csv\")\n",
    "fs_venues = pd.read_csv(\"fs_venues.csv\")\n",
    "fs_venues_open = pd.read_csv(\"fs_venues_open.csv\")\n",
    "yelp_venues = pd.read_csv(\"yelp_venues.csv\")\n",
    "yelp_venues_open = pd.read_csv(\"yelp_venues_open.csv\")"
   ]
  },
  {
   "cell_type": "code",
   "execution_count": null,
   "metadata": {},
   "outputs": [],
   "source": [
    "import sqlite3\n",
    "from sqlite3 import Error\n",
    "\n",
    "def create_connection(path):\n",
    "    connection = None\n",
    "    try:\n",
    "        connection = sqlite3.connect(path)\n",
    "        print(\"Connection to SQLite DB successful\")\n",
    "    except Error as e:\n",
    "        print(f\"The error '{e}' occurred\")\n",
    "        \n",
    "    return connection"
   ]
  },
  {
   "cell_type": "code",
   "execution_count": null,
   "metadata": {},
   "outputs": [],
   "source": [
    "connection = create_connection(\"sm_app.sqlite\")"
   ]
  },
  {
   "cell_type": "code",
   "execution_count": null,
   "metadata": {},
   "outputs": [],
   "source": [
    "def execute_query(connection, query):\n",
    "    cursor = connection.cursor()\n",
    "    try:\n",
    "        cursor.execute(query)\n",
    "        connection.commit()\n",
    "        print(\"Query executed successfully\")\n",
    "    except Error as e:\n",
    "        print(f\"The error '{e}' occurred\")"
   ]
  },
  {
   "cell_type": "markdown",
   "metadata": {},
   "source": [
    "Look at the data before and after the join to validate your data."
   ]
  },
  {
   "cell_type": "code",
   "execution_count": null,
   "metadata": {},
   "outputs": [],
   "source": [
    "station_docks.to_sql(\"station_docks2\", connection, if_exists=\"replace\")"
   ]
  },
  {
   "cell_type": "code",
   "execution_count": null,
   "metadata": {},
   "outputs": [],
   "source": [
    "connection.close()"
   ]
  },
  {
   "cell_type": "code",
   "execution_count": null,
   "metadata": {},
   "outputs": [],
   "source": [
    "con = sqlite3.connect(\"stats_project_db.sqlite\")"
   ]
  },
  {
   "cell_type": "code",
   "execution_count": null,
   "metadata": {},
   "outputs": [],
   "source": [
    "station_docks.to_sql(\"station_docks\", con, if_exists=\"replace\")"
   ]
  },
  {
   "cell_type": "code",
   "execution_count": null,
   "metadata": {},
   "outputs": [],
   "source": [
    "station_locations.to_sql(\"station_locations\", con, if_exists=\"replace\")\n",
    "fs_venues.to_sql(\"fs_venues\", con, if_exists=\"replace\")\n",
    "fs_venues_open.to_sql(\"fs_venues_open\", con, if_exists=\"replace\")\n",
    "yelp_venues.to_sql(\"yelp_venues\", con, if_exists=\"replace\")\n",
    "yelp_venues_open.to_sql(\"yelp_venues_open\", con, if_exists=\"replace\")"
   ]
  },
  {
   "cell_type": "code",
   "execution_count": null,
   "metadata": {},
   "outputs": [],
   "source": [
    "add_key_query_docks = \"\"\"\n",
    "ALTER TABLE station_docks\n",
    "ADD PRIMARY KEY (station_id);\n",
    "\"\"\""
   ]
  },
  {
   "cell_type": "code",
   "execution_count": null,
   "metadata": {},
   "outputs": [],
   "source": [
    "execute_query(con, add_key_query_docks)"
   ]
  },
  {
   "cell_type": "code",
   "execution_count": null,
   "metadata": {},
   "outputs": [],
   "source": [
    "fs_venues_open.head()"
   ]
  },
  {
   "cell_type": "code",
   "execution_count": null,
   "metadata": {},
   "outputs": [],
   "source": [
    "station_locations.head(1)"
   ]
  },
  {
   "cell_type": "code",
   "execution_count": null,
   "metadata": {},
   "outputs": [],
   "source": [
    "station_locations = station_locations.set_index(\"Station ID\")"
   ]
  },
  {
   "cell_type": "code",
   "execution_count": null,
   "metadata": {},
   "outputs": [],
   "source": [
    "station_locations.head()"
   ]
  },
  {
   "cell_type": "code",
   "execution_count": null,
   "metadata": {},
   "outputs": [],
   "source": [
    "station_docks = station_docks.set_index(\"Station ID\")"
   ]
  },
  {
   "cell_type": "code",
   "execution_count": null,
   "metadata": {},
   "outputs": [],
   "source": [
    "station_docks.head()"
   ]
  },
  {
   "cell_type": "code",
   "execution_count": null,
   "metadata": {},
   "outputs": [],
   "source": [
    "fs_venues = fs_venues.set_index(\"Station ID\")"
   ]
  },
  {
   "cell_type": "code",
   "execution_count": null,
   "metadata": {},
   "outputs": [],
   "source": [
    "fs_venues.head()"
   ]
  },
  {
   "cell_type": "code",
   "execution_count": null,
   "metadata": {},
   "outputs": [],
   "source": [
    "fs_venues_open.head()"
   ]
  },
  {
   "cell_type": "code",
   "execution_count": null,
   "metadata": {},
   "outputs": [],
   "source": [
    "yelp_venues.head()"
   ]
  },
  {
   "cell_type": "code",
   "execution_count": null,
   "metadata": {},
   "outputs": [],
   "source": [
    "yelp_venues_open.head()"
   ]
  },
  {
   "cell_type": "code",
   "execution_count": null,
   "metadata": {},
   "outputs": [],
   "source": [
    "con.close()"
   ]
  },
  {
   "cell_type": "code",
   "execution_count": null,
   "metadata": {},
   "outputs": [],
   "source": [
    "con = sqlite3.connect(\"stats_project.sqlite\")"
   ]
  },
  {
   "cell_type": "code",
   "execution_count": null,
   "metadata": {},
   "outputs": [],
   "source": [
    "station_docks.to_sql(\"station_docks\", con, if_exists=\"replace\")\n",
    "station_locations.to_sql(\"station_locations\", con, if_exists=\"replace\")\n",
    "fs_venues.to_sql(\"fs_venues\", con, if_exists=\"replace\")\n",
    "fs_venues_open.to_sql(\"fs_venues_open\", con, if_exists=\"replace\")\n",
    "yelp_venues.to_sql(\"yelp_venues\", con, if_exists=\"replace\")\n",
    "yelp_venues_open.to_sql(\"yelp_venues_open\", con, if_exists=\"replace\")"
   ]
  },
  {
   "cell_type": "code",
   "execution_count": null,
   "metadata": {},
   "outputs": [],
   "source": [
    "fk_docks_query = \"\"\"\n",
    "    PRAGMA foreign_keys=off;\n",
    "\n",
    "    BEGIN TRANSACTION;\n",
    "\n",
    "    ALTER TABLE station_docks RENAME TO station_docks_old;\n",
    "\n",
    "    CREATE TABLE station_docks\n",
    "    ( \n",
    "        \"Station ID\" TEXT NOT NULL,\n",
    "        \"Empty Slots\" INTEGER,\n",
    "        \"Available Bikes\" INTEGER,\n",
    "        \"Total Slots\" INTEGER,\n",
    "        \"Proportion of Available Bikes (%)\" REAL\n",
    "        CONSTRAINT fk_station_id\n",
    "        FOREIGN KEY (\"Station ID\")\n",
    "        REFERENCES station_locations(\"Station ID\")\n",
    "    );\n",
    "\n",
    "    INSERT INTO station_docks SELECT * FROM station_docks_old;\n",
    "\n",
    "    COMMIT;\n",
    "\n",
    "    PRAGMA foreign_keys=on;\n",
    "\"\"\""
   ]
  },
  {
   "cell_type": "code",
   "execution_count": null,
   "metadata": {},
   "outputs": [],
   "source": [
    "con.close()"
   ]
  },
  {
   "cell_type": "code",
   "execution_count": null,
   "metadata": {},
   "outputs": [],
   "source": [
    "bike_stations = pd.read_csv(\"df_stations.csv\")\n",
    "fs_locations = pd.read_csv(\"fs_df_with_totals.csv\")"
   ]
  },
  {
   "cell_type": "code",
   "execution_count": null,
   "metadata": {},
   "outputs": [],
   "source": [
    "bike_stations.head(2)"
   ]
  },
  {
   "cell_type": "code",
   "execution_count": null,
   "metadata": {},
   "outputs": [],
   "source": [
    "bike_stations[\"Proportion of Available Bikes (%)\"] = round(bike_stations[\"Available Bikes\"] / bike_stations[\"Total Slots\"] * 100,0)"
   ]
  },
  {
   "cell_type": "code",
   "execution_count": null,
   "metadata": {},
   "outputs": [],
   "source": [
    "bike_station_cols = list(bike_stations.columns.values)\n",
    "print(bike_station_cols)"
   ]
  },
  {
   "cell_type": "code",
   "execution_count": null,
   "metadata": {},
   "outputs": [],
   "source": [
    "bike_stations_for_db = bike_stations[['Station ID', 'Station Name', 'Available Bikes', 'Empty Slots', 'Total Slots', 'Proportion of Available Bikes (%)']]"
   ]
  },
  {
   "cell_type": "code",
   "execution_count": null,
   "metadata": {},
   "outputs": [],
   "source": [
    "bike_stations_for_db.head(2)"
   ]
  },
  {
   "cell_type": "code",
   "execution_count": null,
   "metadata": {},
   "outputs": [],
   "source": [
    "bike_stations_for_db = bike_stations_for_db.set_index(\"Station ID\")"
   ]
  },
  {
   "cell_type": "code",
   "execution_count": null,
   "metadata": {},
   "outputs": [],
   "source": [
    "bike_stations_for_db.head(2)"
   ]
  },
  {
   "cell_type": "code",
   "execution_count": null,
   "metadata": {},
   "outputs": [],
   "source": [
    "fs_locations.head(2)"
   ]
  },
  {
   "cell_type": "code",
   "execution_count": null,
   "metadata": {},
   "outputs": [],
   "source": [
    "fs_locations_cols = list(fs_locations.columns.values)\n",
    "print(fs_locations_cols)"
   ]
  },
  {
   "cell_type": "code",
   "execution_count": null,
   "metadata": {},
   "outputs": [],
   "source": [
    "fs_locations_for_db = fs_locations[['latitude', 'longitude', 'Station ID', 'Bars - All', 'Bars - Open', 'Restaurants - All', 'Restaurants - Open', 'Shopping - All', 'Shopping - Open', 'Education - All', 'Education - Open', 'Arts and Entertainment - All', 'Arts and Entertainment - Open', 'Total - All Venues', 'Total - Open Venues']]"
   ]
  },
  {
   "cell_type": "code",
   "execution_count": null,
   "metadata": {},
   "outputs": [],
   "source": [
    "fs_locations_for_db.head(2)"
   ]
  },
  {
   "cell_type": "code",
   "execution_count": null,
   "metadata": {},
   "outputs": [],
   "source": [
    "fs_locations_for_db = fs_locations_for_db.set_index([\"latitude\", \"longitude\"])"
   ]
  },
  {
   "cell_type": "code",
   "execution_count": null,
   "metadata": {
    "tags": []
   },
   "outputs": [],
   "source": [
    "fs_locations_for_db.head(2)"
   ]
  },
  {
   "cell_type": "code",
   "execution_count": null,
   "metadata": {},
   "outputs": [],
   "source": [
    "con = sqlite3.connect(\"stats_project_wk3.sqlite\")"
   ]
  },
  {
   "cell_type": "code",
   "execution_count": null,
   "metadata": {},
   "outputs": [],
   "source": [
    "bike_stations_for_db.to_sql(\"bike_stations\", con, if_exists=\"replace\")"
   ]
  },
  {
   "cell_type": "code",
   "execution_count": null,
   "metadata": {},
   "outputs": [],
   "source": [
    "fs_locations_for_db.to_sql(\"fs_locations\", con, if_exists=\"replace\")"
   ]
  },
  {
   "cell_type": "code",
   "execution_count": null,
   "metadata": {},
   "outputs": [],
   "source": [
    "create_fk = \"\"\"\n",
    "CREATE TABLE fs_loc_with_fk\n",
    "(\n",
    "  \"latitude\" REAL NOT NULL,\n",
    "  \"longitude\" REAL NOT NULL,\n",
    "  \"Station ID\" TEXT NOT NULL,\n",
    "  \"Bars - All\" INTEGER,\n",
    "  \"Bars - Open\" INTEGER,\n",
    "  \"Restaurants - All\" INTEGER,\n",
    "  \"Restaurants - Open\" INTEGER,\n",
    "  \"Shopping - All\" INTEGER,\n",
    "  \"Shopping - Open\" INTEGER,\n",
    "  \"Education - All\" INTEGER,\n",
    "  \"Education - Open\" INTEGER,\n",
    "  \"Arts and Entertainment - All\" INTEGER,\n",
    "  \"Arts and Entertainment - Open\" INTEGER,\n",
    "  \"Total - All Venues\" INTEGER,\n",
    "  \"Total - Open Venues\" INTEGER,\n",
    "    CONSTRAINT lat_long PRIMARY KEY (\"latitude\", \"longitude\"),\n",
    "    CONSTRAINT fk_station_ids FOREIGN KEY (\"Station ID\") REFERENCES bike_stations (\"Station ID\")\n",
    ");\n",
    "\"\"\""
   ]
  },
  {
   "cell_type": "code",
   "execution_count": null,
   "metadata": {},
   "outputs": [],
   "source": [
    "execute_query(con, create_fk)"
   ]
  },
  {
   "cell_type": "code",
   "execution_count": null,
   "metadata": {},
   "outputs": [],
   "source": [
    "create_pk = \"\"\"\n",
    "CREATE TABLE stations_with_pk\n",
    "(\n",
    "    \"Station ID\" TEXT NOT NULL PRIMARY KEY,\n",
    "    \"Station Name\" TEXT,\n",
    "    \"Available Bikes\" INTEGER,\n",
    "    \"Empty Slots\" INTEGER,\n",
    "    \"Total Slots\" INTEGER,\n",
    "    \"Proportion of Available Bikes (%)\" REAL\n",
    ")\n",
    "\"\"\""
   ]
  },
  {
   "cell_type": "code",
   "execution_count": null,
   "metadata": {},
   "outputs": [],
   "source": [
    "execute_query(con, create_pk)"
   ]
  },
  {
   "cell_type": "code",
   "execution_count": null,
   "metadata": {},
   "outputs": [],
   "source": [
    "drop_table_fs_loc_with_fk = \"\"\"\n",
    "    DROP TABLE fs_loc_with_fk\n",
    "\"\"\""
   ]
  },
  {
   "cell_type": "code",
   "execution_count": null,
   "metadata": {},
   "outputs": [],
   "source": [
    "execute_query(con, drop_table_fs_loc_with_fk)"
   ]
  },
  {
   "cell_type": "code",
   "execution_count": null,
   "metadata": {},
   "outputs": [],
   "source": [
    "create_fk = \"\"\"\n",
    "CREATE TABLE fs_loc_with_fk\n",
    "(\n",
    "  \"latitude\" REAL NOT NULL,\n",
    "  \"longitude\" REAL NOT NULL,\n",
    "  \"Station ID\" TEXT NOT NULL,\n",
    "  \"Bars - All\" INTEGER,\n",
    "  \"Bars - Open\" INTEGER,\n",
    "  \"Restaurants - All\" INTEGER,\n",
    "  \"Restaurants - Open\" INTEGER,\n",
    "  \"Shopping - All\" INTEGER,\n",
    "  \"Shopping - Open\" INTEGER,\n",
    "  \"Education - All\" INTEGER,\n",
    "  \"Education - Open\" INTEGER,\n",
    "  \"Arts and Entertainment - All\" INTEGER,\n",
    "  \"Arts and Entertainment - Open\" INTEGER,\n",
    "  \"Total - All Venues\" INTEGER,\n",
    "  \"Total - Open Venues\" INTEGER,\n",
    "    CONSTRAINT lat_long PRIMARY KEY (\"latitude\", \"longitude\"),\n",
    "    CONSTRAINT fk_station_ids FOREIGN KEY (\"Station ID\") REFERENCES stations_with_pk (\"Station ID\")\n",
    ");\n",
    "\"\"\""
   ]
  },
  {
   "cell_type": "code",
   "execution_count": null,
   "metadata": {},
   "outputs": [],
   "source": [
    "execute_query(con, create_fk)"
   ]
  },
  {
   "cell_type": "code",
   "execution_count": null,
   "metadata": {},
   "outputs": [],
   "source": [
    "insert_into_station_table = \"\"\"\n",
    "INSERT INTO stations_with_pk SELECT * FROM bike_stations\n",
    "\"\"\""
   ]
  },
  {
   "cell_type": "code",
   "execution_count": null,
   "metadata": {},
   "outputs": [],
   "source": [
    "execute_query(con, insert_into_station_table)"
   ]
  },
  {
   "cell_type": "code",
   "execution_count": null,
   "metadata": {},
   "outputs": [],
   "source": [
    "insert_into_fs_table = \"\"\"\n",
    "INSERT INTO fs_loc_with_fk SELECT * FROM fs_locations\n",
    "\"\"\""
   ]
  },
  {
   "cell_type": "code",
   "execution_count": null,
   "metadata": {},
   "outputs": [],
   "source": [
    "execute_query(con, insert_into_fs_table)"
   ]
  },
  {
   "cell_type": "code",
   "execution_count": null,
   "metadata": {},
   "outputs": [],
   "source": [
    "drop_old_fs_table = \"\"\"\n",
    "    DROP TABLE fs_locations;\n",
    "\"\"\""
   ]
  },
  {
   "cell_type": "code",
   "execution_count": null,
   "metadata": {},
   "outputs": [],
   "source": [
    "execute_query(con, drop_old_fs_table)"
   ]
  },
  {
   "cell_type": "code",
   "execution_count": null,
   "metadata": {},
   "outputs": [],
   "source": [
    "drop_old_station_table = \"\"\"\n",
    "    DROP TABLE bike_stations;\n",
    "\"\"\""
   ]
  },
  {
   "cell_type": "code",
   "execution_count": null,
   "metadata": {},
   "outputs": [],
   "source": [
    "execute_query(con, drop_old_station_table)"
   ]
  },
  {
   "cell_type": "code",
   "execution_count": null,
   "metadata": {},
   "outputs": [],
   "source": [
    "rename_bike_table = \"\"\"\n",
    "    ALTER TABLE stations_with_pk RENAME TO bike_stations;\n",
    "\"\"\""
   ]
  },
  {
   "cell_type": "code",
   "execution_count": null,
   "metadata": {},
   "outputs": [],
   "source": [
    "execute_query(con, rename_bike_table)"
   ]
  },
  {
   "cell_type": "code",
   "execution_count": null,
   "metadata": {},
   "outputs": [],
   "source": [
    "rename_fs_table = \"\"\"\n",
    "    ALTER TABLE fs_loc_with_fk RENAME TO fs_locations;\n",
    "\"\"\""
   ]
  },
  {
   "cell_type": "code",
   "execution_count": null,
   "metadata": {},
   "outputs": [],
   "source": [
    "execute_query(con, rename_fs_table)"
   ]
  },
  {
   "cell_type": "code",
   "execution_count": null,
   "metadata": {},
   "outputs": [],
   "source": [
    "fs_df = pd.read_csv(\"fs_df_with_totals.csv\")"
   ]
  },
  {
   "cell_type": "code",
   "execution_count": null,
   "metadata": {},
   "outputs": [],
   "source": [
    "fs_df.head(15)"
   ]
  }
 ],
 "metadata": {
  "kernelspec": {
   "display_name": "Python 3 (ipykernel)",
   "language": "python",
   "name": "python3"
  },
  "language_info": {
   "codemirror_mode": {
    "name": "ipython",
    "version": 3
   },
   "file_extension": ".py",
   "mimetype": "text/x-python",
   "name": "python",
   "nbconvert_exporter": "python",
   "pygments_lexer": "ipython3",
   "version": "3.9.12"
  }
 },
 "nbformat": 4,
 "nbformat_minor": 4
}
